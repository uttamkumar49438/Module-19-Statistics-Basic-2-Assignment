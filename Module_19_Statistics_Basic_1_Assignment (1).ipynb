{
  "nbformat": 4,
  "nbformat_minor": 0,
  "metadata": {
    "colab": {
      "provenance": []
    },
    "kernelspec": {
      "name": "python3",
      "display_name": "Python 3"
    },
    "language_info": {
      "name": "python"
    }
  },
  "cells": [
    {
      "cell_type": "markdown",
      "source": [
        "Q1. What are the three measures of central tendency?"
      ],
      "metadata": {
        "id": "s7yKWhDw6qyd"
      }
    },
    {
      "cell_type": "markdown",
      "source": [
        "Mean, Median, Mode"
      ],
      "metadata": {
        "id": "p1qityNI6wfv"
      }
    },
    {
      "cell_type": "markdown",
      "source": [
        "Q2. What is the difference between the mean, median, and mode? How are they used to measure the\n",
        "central tendency of a dataset?"
      ],
      "metadata": {
        "id": "t7cYtBsf67xl"
      }
    },
    {
      "cell_type": "markdown",
      "source": [
        "mean provides an average value that is influenced by all data points, the median gives the middle value that is not impacted by extreme values, and the mode identifies the most frequently occurring value. Depending on the nature of the data and the presence of outliers, one or more of these measures may be used to describe the central tendency of a dataset."
      ],
      "metadata": {
        "id": "oQmAZPGW7AhF"
      }
    },
    {
      "cell_type": "markdown",
      "source": [
        "Q3. Measure the three measures of central tendency for the given height data:\n",
        "[178,177,176,177,178.2,178,175,179,180,175,178.9,176.2,177,172.5,178,176.5]"
      ],
      "metadata": {
        "id": "C_VUh4x47Ie_"
      }
    },
    {
      "cell_type": "markdown",
      "source": [
        " measures of central tendency for the given height data are:\n",
        "\n",
        "Mean ≈ 177.77\n",
        "Median = 177\n",
        "Mode = 178"
      ],
      "metadata": {
        "id": "yypDj0nZ7Nri"
      }
    },
    {
      "cell_type": "markdown",
      "source": [
        "Q4. Find the standard deviation for the given data:\n",
        "[178,177,176,177,178.2,178,175,179,180,175,178.9,176.2,177,172.5,178,176.5]"
      ],
      "metadata": {
        "id": "Burt9KV07Ucu"
      }
    },
    {
      "cell_type": "markdown",
      "source": [
        "Standard deviation ≈ √3.8543 ≈ 1.9639\n",
        "\n"
      ],
      "metadata": {
        "id": "BtdRZZMO7zZD"
      }
    },
    {
      "cell_type": "markdown",
      "source": [
        "Q5. How are measures of dispersion such as range, variance, and standard deviation used to describe\n",
        "the spread of a dataset? Provide an example."
      ],
      "metadata": {
        "id": "SDzXX9Ym8B3v"
      }
    },
    {
      "cell_type": "markdown",
      "source": [
        "Measures of dispersion, such as range, variance, and standard deviation, are used to quantify the spread or variability of data points in a dataset."
      ],
      "metadata": {
        "id": "0dbuzKQh8FYV"
      }
    },
    {
      "cell_type": "markdown",
      "source": [
        "Q6. What is a Venn diagram?"
      ],
      "metadata": {
        "id": "ObfgwFr_8Q2n"
      }
    },
    {
      "cell_type": "markdown",
      "source": [
        "A Venn diagram is a graphical representation that illustrates the relationships between different sets or categories of items. It consists of overlapping circles, each representing a set, and the overlapping regions show the intersection of those sets."
      ],
      "metadata": {
        "id": "gfeVQEUp8VCI"
      }
    },
    {
      "cell_type": "markdown",
      "source": [
        "Q7. For the two given sets A = (2,3,4,5,6,7) & B = (0,2,6,8,10). Find:\n",
        "(i) A B\n",
        "(ii) A ⋃ B"
      ],
      "metadata": {
        "id": "c_VH_N8t8Zhs"
      }
    },
    {
      "cell_type": "markdown",
      "source": [
        "From the given sets\n",
        "�\n",
        "A and\n",
        "�\n",
        "B, the common elements are\n",
        "2\n",
        "2 and\n",
        "6\n",
        "6. Therefore,\n",
        "�\n",
        "∩\n",
        "�\n",
        "=\n",
        "{\n",
        "2\n",
        ",\n",
        "6\n",
        "}\n",
        "A∩B={2,6}\n",
        "\n",
        "(ii)\n",
        "�\n",
        "∪\n",
        "�\n",
        "A∪B (Union of\n",
        "�\n",
        "A and\n",
        "�\n",
        "B):\n",
        "�\n",
        "∪\n",
        "�\n",
        "=\n",
        "{\n",
        "�\n",
        "∣\n",
        "�\n",
        "∈\n",
        "�\n",
        " or\n",
        "�\n",
        "∈\n",
        "�\n",
        "}\n",
        "A∪B={x∣x∈A or x∈B}\n",
        "\n",
        "The union of sets\n",
        "�\n",
        "A and\n",
        "�\n",
        "B includes all elements from both sets, without repetition. Therefore,\n",
        "�\n",
        "∪\n",
        "�\n",
        "=\n",
        "{\n",
        "0\n",
        ",\n",
        "2\n",
        ",\n",
        "3\n",
        ",\n",
        "4\n",
        ",\n",
        "5\n",
        ",\n",
        "6\n",
        ",\n",
        "7\n",
        ",\n",
        "8\n",
        ",\n",
        "10\n",
        "}\n",
        "A∪B={0,2,3,4,5,6,7,8,10}\n",
        "\n",
        "\n",
        "\n",
        "\n",
        "\n"
      ],
      "metadata": {
        "id": "xk7YOK0t8kGy"
      }
    },
    {
      "cell_type": "markdown",
      "source": [
        "Q8. What do you understand about skewness in data?"
      ],
      "metadata": {
        "id": "jz5osOsk8n04"
      }
    },
    {
      "cell_type": "markdown",
      "source": [
        "Skewness is a measure of the asymmetry of the probability distribution of a real-valued random variable about its mean. In simpler terms, it quantifies the degree of asymmetry in the distribution of data points."
      ],
      "metadata": {
        "id": "pUhDOGSE8uWl"
      }
    },
    {
      "cell_type": "markdown",
      "source": [
        "Q9. If a data is right skewed then what will be the position of median with respect to mean?"
      ],
      "metadata": {
        "id": "iaTQmUNM8yNw"
      }
    },
    {
      "cell_type": "markdown",
      "source": [
        "In a right-skewed distribution:\n",
        "\n",
        "The mean is typically greater than the median.\n",
        "The median is closer to the lower end of the data distribution.\n",
        "The mean is influenced by the presence of the long tail on the right side, which pulls its value higher.\n",
        "So, in summary, in a right-skewed distribution, the median will be less than the mean."
      ],
      "metadata": {
        "id": "fe1RgLYs83Re"
      }
    },
    {
      "cell_type": "markdown",
      "source": [
        "Q10. Explain the difference between covariance and correlation. How are these measures used in\n",
        "statistical analysis?"
      ],
      "metadata": {
        "id": "2mAohFf488hy"
      }
    },
    {
      "cell_type": "markdown",
      "source": [
        "Covariance and correlation are both measures used to quantify the relationship between two variables in a dataset. However, they differ in their interpretation and scale."
      ],
      "metadata": {
        "id": "BSAepZNw9BAD"
      }
    },
    {
      "cell_type": "markdown",
      "source": [
        "Q11. What is the formula for calculating the sample mean? Provide an example calculation for a\n",
        "dataset."
      ],
      "metadata": {
        "id": "b0aYznx89JQN"
      }
    },
    {
      "cell_type": "markdown",
      "source": [
        "sample mean, often denoted by\n",
        "�\n",
        "ˉ\n",
        "x\n",
        "ˉ\n",
        " , is calculated as the sum of all observations in the sample divided by the total number of observations\n",
        "�\n",
        "n in the sample."
      ],
      "metadata": {
        "id": "_vzAN16x9Oi_"
      }
    },
    {
      "cell_type": "markdown",
      "source": [
        "Q12. For a normal distribution data what is the relationship between its measure of central tendency?"
      ],
      "metadata": {
        "id": "6JzVDx9k9W3f"
      }
    },
    {
      "cell_type": "markdown",
      "source": [
        "In a normal distribution, the measures of central tendency (mean, median, and mode) are all equal and located at the center of the distribution. This is one of the defining characteristics of a normal distribution."
      ],
      "metadata": {
        "id": "wl963PmD9bSf"
      }
    },
    {
      "cell_type": "markdown",
      "source": [
        "Q13. How is covariance different from correlation?"
      ],
      "metadata": {
        "id": "0QJmqB6f9f2z"
      }
    },
    {
      "cell_type": "markdown",
      "source": [
        "Correlation is preferred over covariance when comparing relationships between variables because it standardizes the measure, making it easier to compare across different datasets and variables. It also provides a more intuitive understanding of the strength and direction of the relationship between variables.\n",
        "\n",
        "\n",
        "\n"
      ],
      "metadata": {
        "id": "ExtNj7FO9qN1"
      }
    },
    {
      "cell_type": "markdown",
      "source": [
        "Q14. How do outliers affect measures of central tendency and dispersion? Provide an example."
      ],
      "metadata": {
        "id": "pDxA9Q-D9vVv"
      }
    },
    {
      "cell_type": "markdown",
      "source": [
        "Outliers can skew the mean in the direction of the outlier. For instance, a very large or very small value can pull the mean away from the center of the data."
      ],
      "metadata": {
        "id": "mkXPYXE19wdE"
      }
    }
  ]
}